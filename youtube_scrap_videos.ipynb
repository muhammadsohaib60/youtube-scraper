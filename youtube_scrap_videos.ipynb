{
 "cells": [
  {
   "cell_type": "code",
   "execution_count": 2,
   "metadata": {},
   "outputs": [],
   "source": [
    "%pip install requests beautifulsoup4"
   ]
  },
  {
   "cell_type": "markdown",
   "metadata": {},
   "source": [
    "## Youtube Video Searcher"
   ]
  },
  {
   "cell_type": "code",
   "execution_count": 7,
   "metadata": {},
   "outputs": [],
   "source": [
    "KEYWORDS = [\n",
    "    'python',\n",
    "    'django',\n",
    "    \"web3\",\n",
    "    \"solidity\",\n",
    "]"
   ]
  },
  {
   "cell_type": "markdown",
   "metadata": {},
   "source": [
    "## How many Videos per keyword?"
   ]
  },
  {
   "cell_type": "code",
   "execution_count": 8,
   "metadata": {},
   "outputs": [],
   "source": [
    "count = 20  # Set the number of videos you want to retrieve for each keyword"
   ]
  },
  {
   "cell_type": "markdown",
   "metadata": {},
   "source": [
    "# For Scraping Videos"
   ]
  },
  {
   "cell_type": "code",
   "execution_count": 9,
   "metadata": {},
   "outputs": [
    {
     "name": "stdout",
     "output_type": "stream",
     "text": [
      "\n",
      "Keyword: python\n",
      "\n",
      "Keyword: django\n",
      "\n",
      "Keyword: web3\n",
      "\n",
      "Keyword: solidity\n",
      "\n",
      "Data saved to viral_videos.csv\n"
     ]
    }
   ],
   "source": [
    "from selenium import webdriver\n",
    "from webdriver_manager.chrome import ChromeDriverManager\n",
    "from selenium.webdriver.chrome.service import Service\n",
    "from selenium.webdriver.chrome.options import Options\n",
    "from bs4 import BeautifulSoup\n",
    "import pandas as pd\n",
    "import time\n",
    "\n",
    "# Setup Chrome options\n",
    "options = Options()\n",
    "options.add_argument('--no-sandbox')\n",
    "options.add_argument('--disable-dev-shm-usage')\n",
    "\n",
    "# Setup the Chrome WebDriver with the correct arguments\n",
    "service = Service(ChromeDriverManager().install())\n",
    "driver = webdriver.Chrome(service=service, options=options)\n",
    "\n",
    "# Function to get the most viral videos for a given keyword\n",
    "def get_viral_videos(keyword, count):\n",
    "    query = keyword.replace(' ', '+')\n",
    "    base_url = f\"https://www.youtube.com/results?search_query={query}&sp=CAM%253D\"\n",
    "    driver.get(base_url)\n",
    "    time.sleep(5)  # Let the page load\n",
    "\n",
    "    # Scroll down the page to load more results\n",
    "    for _ in range(10):\n",
    "        driver.execute_script(\"window.scrollTo(0, document.documentElement.scrollHeight);\")\n",
    "        time.sleep(3)\n",
    "\n",
    "    # Parse the page content using BeautifulSoup\n",
    "    soup = BeautifulSoup(driver.page_source, 'html.parser')\n",
    "    video_elements = soup.find_all('a', class_='yt-simple-endpoint style-scope ytd-video-renderer', href=True)\n",
    "    title_elements = soup.find_all('yt-formatted-string', class_='style-scope ytd-video-renderer')\n",
    "\n",
    "    videos = []\n",
    "\n",
    "    for title_element, video_element in zip(title_elements, video_elements):\n",
    "        title = title_element.text.strip()\n",
    "        url = 'https://www.youtube.com' + video_element['href']\n",
    "        if title and url:  # Ensure both title and url are present\n",
    "            videos.append({'Keyword': keyword, 'Title': title, 'URL': url})\n",
    "        if len(videos) >= count:\n",
    "            break\n",
    "\n",
    "    return videos\n",
    "\n",
    "all_videos = []\n",
    "\n",
    "for keyword in KEYWORDS:\n",
    "    print(f\"\\nKeyword: {keyword}\")\n",
    "    videos = get_viral_videos(keyword, count)\n",
    "    all_videos.extend(videos)\n",
    "\n",
    "# Create DataFrame\n",
    "df = pd.DataFrame(all_videos)\n",
    "\n",
    "# Save DataFrame to CSV\n",
    "df.to_csv('viral_videos.csv', index=False)\n",
    "print(f\"\\nData saved to viral_videos.csv\")\n"
   ]
  },
  {
   "cell_type": "code",
   "execution_count": null,
   "metadata": {},
   "outputs": [],
   "source": [
    "driver.quit()  # Close the WebDriver\n"
   ]
  }
 ],
 "metadata": {
  "kernelspec": {
   "display_name": "aio",
   "language": "python",
   "name": "python3"
  },
  "language_info": {
   "codemirror_mode": {
    "name": "ipython",
    "version": 3
   },
   "file_extension": ".py",
   "mimetype": "text/x-python",
   "name": "python",
   "nbconvert_exporter": "python",
   "pygments_lexer": "ipython3",
   "version": "3.10.14"
  }
 },
 "nbformat": 4,
 "nbformat_minor": 2
}
